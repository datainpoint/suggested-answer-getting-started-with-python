{
 "cells": [
  {
   "cell_type": "markdown",
   "metadata": {},
   "source": [
    "## Introduction to Python\n",
    "\n",
    "> Exercises: Getting Started with Python\n",
    "\n",
    "Kuo, Yao-Jen <yaojenkuo@datainpoint.com> from [DATAINPOINT](https://www.datainpoint.com)"
   ]
  },
  {
   "cell_type": "markdown",
   "metadata": {},
   "source": [
    "## Define a function named `calculate_movie_minutes(hours, mins)` which returns the time of a movie in minutes from hours and minutes\n",
    "\n",
    "- Expected inputs：2 numerics `hours` and `mins`\n",
    "- Expected outputs：a numeric"
   ]
  },
  {
   "cell_type": "code",
   "execution_count": 1,
   "metadata": {},
   "outputs": [],
   "source": [
    "def calculate_movie_minutes(hours, mins):\n",
    "    \"\"\"\n",
    "    >>> calculate_movie_minutes(3, 1)  # Avengers: Endgame\n",
    "    181\n",
    "    >>> calculate_movie_minutes(2, 29) # Avengers: Infinity War\n",
    "    149\n",
    "    >>> calculate_movie_minutes(2, 21) # Avengers: Age of Ultron\n",
    "    141\n",
    "    >>> calculate_movie_minutes(2, 23) # The Avengers\n",
    "    143\n",
    "    \"\"\"\n",
    "    ### BEGIN SOLUTION\n",
    "    mins += hours * 60\n",
    "    return mins\n",
    "    ### END SOLUTION"
   ]
  },
  {
   "cell_type": "markdown",
   "metadata": {},
   "source": [
    "## Define a function named `fahrenheit_to_celsius(degree)` which converts Fahrenheit degrees to Celsius degrees\n",
    "\n",
    "\\begin{equation}\n",
    "Celsius^{\\circ} C = (Fahrenheit^{\\circ} F - 32) \\times \\frac{5}{9}\n",
    "\\end{equation}\n",
    "\n",
    "- Expected inputs：a numeric `degree`\n",
    "- Expected outputs：a numeric"
   ]
  },
  {
   "cell_type": "code",
   "execution_count": 2,
   "metadata": {},
   "outputs": [],
   "source": [
    "def fahrenheit_to_celsius(degree):\n",
    "    \"\"\"\n",
    "    >>> fahrenheit_to_celsius(77)\n",
    "    25.0\n",
    "    >>> fahrenheit_to_celsius(86)\n",
    "    30.0\n",
    "    >>> fahrenheit_to_celsius(95)\n",
    "    35.0\n",
    "    \"\"\"\n",
    "    ### BEGIN SOLUTION\n",
    "    return (degree - 32) * 5 / 9\n",
    "    ### END SOLUTION"
   ]
  },
  {
   "cell_type": "markdown",
   "metadata": {},
   "source": [
    "## Define a function named `calculate_bmi(height, weight)` which calculates BMI according to heights in meters and weights in kilograms\n",
    "\n",
    "\\begin{equation}\n",
    "BMI = \\frac{weight_{kg}}{height_{m}^2}\n",
    "\\end{equation}\n",
    "\n",
    "- Expected inputs：2 numerics `height` and `weight`\n",
    "- Expected outputs：a numeric"
   ]
  },
  {
   "cell_type": "code",
   "execution_count": 3,
   "metadata": {},
   "outputs": [],
   "source": [
    "def calculate_bmi(height, weight):\n",
    "    \"\"\"\n",
    "    >>> calculate_bmi(216, 147) # Shaquille O'Neal in his prime\n",
    "    31.507201646090532\n",
    "    >>> calculate_bmi(198, 129) # Zion Williamson \n",
    "    32.90480563207836\n",
    "    >>> calculate_bmi(206, 113) # LeBron James\n",
    "    26.628334433028563\n",
    "    >>> calculate_bmi(211, 110) # Giannis Antetokounmpo\n",
    "    24.70744143213315\n",
    "    >>> calculate_bmi(231, 91)  # Manute Bol\n",
    "    17.05365341728978\n",
    "    \"\"\"\n",
    "    ### BEGIN SOLUTION\n",
    "    bmi = weight / (height*0.01)**2\n",
    "    return bmi\n",
    "    ### END SOLUTION"
   ]
  },
  {
   "cell_type": "markdown",
   "metadata": {},
   "source": [
    "## Define a function named `find_bmi_label(bmi)` which returns the description of BMI according to BMI\n",
    "\n",
    "https://en.wikipedia.org/wiki/Body_mass_index#/media/File:BMI_chart.svg\n",
    "\n",
    "- Expected inputs：a numeric `bmi`\n",
    "- Expected outputs：a string"
   ]
  },
  {
   "cell_type": "code",
   "execution_count": 4,
   "metadata": {},
   "outputs": [],
   "source": [
    "def find_bmi_label(bmi):\n",
    "    \"\"\"\n",
    "    >>> find_bmi_label(31.51) # Shaquille O'Neal in his prime\n",
    "    'Obese'\n",
    "    >>> find_bmi_label(32.90) # Zion Williamson \n",
    "    'Obese'\n",
    "    >>> find_bmi_label(26.63) # LeBron James\n",
    "    'Overweight'\n",
    "    >>> find_bmi_label(24.71) # Giannis Antetokounmpo\n",
    "    'Normal weight'\n",
    "    >>> find_bmi_label(17.05) # Manute Bol\n",
    "    'Underweight'\n",
    "    \"\"\"\n",
    "    ### BEGIN SOLUTION\n",
    "    if bmi > 30:\n",
    "        bmi_label = 'Obese'\n",
    "    elif bmi > 25:\n",
    "        bmi_label = 'Overweight'\n",
    "    elif bmi > 18.5:\n",
    "        bmi_label = 'Normal weight'\n",
    "    else:\n",
    "        bmi_label = 'Underweight'\n",
    "    return bmi_label\n",
    "    ### END SOLUTION"
   ]
  },
  {
   "cell_type": "markdown",
   "metadata": {},
   "source": [
    "## Define a function named `fizz_buzz(x)` which returns 'Fizz' when `x` can be divided by 3, returns 'Buzz' when `x` can be divided by 5, returns 'Fizz Buzz' when `x` can be divided by 15. Otherwise, the function returns `x` itself\n",
    "\n",
    "https://en.wikipedia.org/wiki/Body_mass_index#/media/File:BMI_chart.svg\n",
    "\n",
    "- Expected inputs：an integer `x`\n",
    "- Expected outputs：an integer or a string"
   ]
  },
  {
   "cell_type": "code",
   "execution_count": 5,
   "metadata": {},
   "outputs": [],
   "source": [
    "def fizz_buzz(x):\n",
    "    \"\"\"\n",
    "    >>> fizz_buzz(3)\n",
    "    'Fizz'\n",
    "    >>> fizz_buzz(5)\n",
    "    'Buzz'\n",
    "    >>> fizz_buzz(15)\n",
    "    'Fizz Buzz'\n",
    "    >>> fizz_buzz(16)\n",
    "    16\n",
    "    \"\"\"\n",
    "    ### BEGIN SOLUTION\n",
    "    if x % 15 == 0:\n",
    "        func_output = 'Fizz Buzz'\n",
    "    elif x % 3 == 0:\n",
    "        func_output = 'Fizz'\n",
    "    elif x % 5 == 0:\n",
    "        func_output = 'Buzz'\n",
    "    else:\n",
    "        func_output = x\n",
    "    return func_output\n",
    "    ### END SOLUTION"
   ]
  },
  {
   "cell_type": "markdown",
   "metadata": {},
   "source": [
    "## Run tests!"
   ]
  },
  {
   "cell_type": "code",
   "execution_count": 6,
   "metadata": {
    "deletable": false,
    "editable": false
   },
   "outputs": [
    {
     "name": "stderr",
     "output_type": "stream",
     "text": [
      "test_calculate_bmi (__main__.TestGettingStartedWithPython) ... ok\n",
      "test_calculate_movie_minutes (__main__.TestGettingStartedWithPython) ... ok\n",
      "test_fahrenheit_to_celsius (__main__.TestGettingStartedWithPython) ... ok\n",
      "test_find_bmi_label (__main__.TestGettingStartedWithPython) ... ok\n",
      "test_fizz_buzz (__main__.TestGettingStartedWithPython) ... ok\n",
      "\n",
      "----------------------------------------------------------------------\n",
      "Ran 5 tests in 0.036s\n",
      "\n",
      "OK\n"
     ]
    }
   ],
   "source": [
    "import unittest\n",
    "\n",
    "class TestGettingStartedWithPython(unittest.TestCase):\n",
    "    def test_calculate_movie_minutes(self):\n",
    "        self.assertEqual(calculate_movie_minutes(3, 1), 181)\n",
    "        self.assertEqual(calculate_movie_minutes(2, 29), 149)\n",
    "        self.assertEqual(calculate_movie_minutes(2, 21), 141)\n",
    "        self.assertEqual(calculate_movie_minutes(2, 23), 143)\n",
    "    def test_fahrenheit_to_celsius(self):\n",
    "        self.assertAlmostEqual(fahrenheit_to_celsius(77), 25.0)\n",
    "        self.assertAlmostEqual(fahrenheit_to_celsius(86), 30.0)\n",
    "        self.assertAlmostEqual(fahrenheit_to_celsius(95), 35.0)\n",
    "    def test_calculate_bmi(self):\n",
    "        self.assertAlmostEqual(calculate_bmi(216, 147), 31.507201646090532)\n",
    "        self.assertAlmostEqual(calculate_bmi(198, 129), 32.90480563207836)\n",
    "        self.assertAlmostEqual(calculate_bmi(206, 113), 26.628334433028563)\n",
    "        self.assertAlmostEqual(calculate_bmi(211, 110), 24.70744143213315)\n",
    "        self.assertAlmostEqual(calculate_bmi(231, 91), 17.05365341728978)\n",
    "    def test_find_bmi_label(self):\n",
    "        self.assertEqual(find_bmi_label(31.51), 'Obese')\n",
    "        self.assertEqual(find_bmi_label(32.90), 'Obese')\n",
    "        self.assertEqual(find_bmi_label(26.63), 'Overweight')\n",
    "        self.assertEqual(find_bmi_label(24.71), 'Normal weight')\n",
    "        self.assertEqual(find_bmi_label(17.05), 'Underweight')\n",
    "    def test_fizz_buzz(self):\n",
    "        self.assertEqual(fizz_buzz(3), 'Fizz')\n",
    "        self.assertEqual(fizz_buzz(5), 'Buzz')\n",
    "        self.assertEqual(fizz_buzz(15), 'Fizz Buzz')\n",
    "        self.assertEqual(fizz_buzz(16), 16)\n",
    "\n",
    "suite = unittest.TestLoader().loadTestsFromTestCase(TestGettingStartedWithPython)\n",
    "runner = unittest.TextTestRunner(verbosity=2)\n",
    "test_results = runner.run(suite)\n",
    "number_of_failures = len(test_results.failures)\n",
    "number_of_errors = len(test_results.errors)\n",
    "number_of_test_runs = test_results.testsRun\n",
    "number_of_successes = number_of_test_runs - (number_of_failures + number_of_errors)\n",
    "total_points = number_of_successes * 2"
   ]
  },
  {
   "cell_type": "code",
   "execution_count": 7,
   "metadata": {
    "deletable": false,
    "editable": false
   },
   "outputs": [
    {
     "name": "stdout",
     "output_type": "stream",
     "text": [
      "You've got 5 successes with 10 points.\n"
     ]
    }
   ],
   "source": [
    "print(\"You've got {} successes with {} points.\".format(number_of_successes, total_points))"
   ]
  }
 ],
 "metadata": {
  "celltoolbar": "Edit Metadata",
  "kernelspec": {
   "display_name": "Python 3",
   "language": "python",
   "name": "python3"
  },
  "language_info": {
   "codemirror_mode": {
    "name": "ipython",
    "version": 3
   },
   "file_extension": ".py",
   "mimetype": "text/x-python",
   "name": "python",
   "nbconvert_exporter": "python",
   "pygments_lexer": "ipython3",
   "version": "3.6.8"
  }
 },
 "nbformat": 4,
 "nbformat_minor": 4
}
